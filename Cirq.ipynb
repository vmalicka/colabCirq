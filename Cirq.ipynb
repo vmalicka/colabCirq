{
  "nbformat": 4,
  "nbformat_minor": 0,
  "metadata": {
    "colab": {
      "provenance": []
    },
    "kernelspec": {
      "name": "python3",
      "display_name": "Python 3"
    },
    "language_info": {
      "name": "python"
    }
  },
  "cells": [
    {
      "cell_type": "code",
      "execution_count": null,
      "metadata": {
        "colab": {
          "base_uri": "https://localhost:8080/"
        },
        "id": "zmpN6ydUmmKz",
        "outputId": "562cc138-4776-4e5e-a775-8f0c8cf0147c"
      },
      "outputs": [
        {
          "output_type": "stream",
          "name": "stdout",
          "text": [
            "Circuit:\n",
            "(0, 0): ───X^0.5───M('m')───\n",
            "Results:\n",
            "m=01100000001011110000\n"
          ]
        }
      ],
      "source": [
        "import cirq\n",
        "\n",
        "# Pick a qubit.\n",
        "qubit = cirq.GridQubit(0, 0)\n",
        "\n",
        "# Create a circuit\n",
        "circuit = cirq.Circuit(\n",
        "    cirq.X(qubit)**0.5,  # Square root of NOT.\n",
        "    cirq.measure(qubit, key='m')  # Measurement.\n",
        ")\n",
        "print(\"Circuit:\")\n",
        "print(circuit)\n",
        "\n",
        "# Simulate the circuit several times.\n",
        "simulator = cirq.Simulator()\n",
        "result = simulator.run(circuit, repetitions=20)\n",
        "print(\"Results:\")\n",
        "print(result)"
      ]
    },
    {
      "cell_type": "code",
      "metadata": {
        "colab": {
          "base_uri": "https://localhost:8080/"
        },
        "id": "3aaa161f",
        "outputId": "87b82aea-13cc-4269-e0a9-0bd0910a8a5b"
      },
      "source": [
        "!pip install cirq"
      ],
      "execution_count": null,
      "outputs": [
        {
          "output_type": "stream",
          "name": "stdout",
          "text": [
            "Collecting cirq\n",
            "  Downloading cirq-1.6.1-py3-none-any.whl.metadata (16 kB)\n",
            "Collecting cirq-aqt==1.6.1 (from cirq)\n",
            "  Downloading cirq_aqt-1.6.1-py3-none-any.whl.metadata (4.7 kB)\n",
            "Collecting cirq-core==1.6.1 (from cirq)\n",
            "  Downloading cirq_core-1.6.1-py3-none-any.whl.metadata (4.8 kB)\n",
            "Collecting cirq-google==1.6.1 (from cirq)\n",
            "  Downloading cirq_google-1.6.1-py3-none-any.whl.metadata (4.9 kB)\n",
            "Collecting cirq-ionq==1.6.1 (from cirq)\n",
            "  Downloading cirq_ionq-1.6.1-py3-none-any.whl.metadata (4.7 kB)\n",
            "Collecting cirq-pasqal==1.6.1 (from cirq)\n",
            "  Downloading cirq_pasqal-1.6.1-py3-none-any.whl.metadata (4.7 kB)\n",
            "Collecting cirq-web==1.6.1 (from cirq)\n",
            "  Downloading cirq_web-1.6.1-py3-none-any.whl.metadata (5.4 kB)\n",
            "Requirement already satisfied: requests~=2.32 in /usr/local/lib/python3.12/dist-packages (from cirq-aqt==1.6.1->cirq) (2.32.4)\n",
            "Requirement already satisfied: attrs>=21.3.0 in /usr/local/lib/python3.12/dist-packages (from cirq-core==1.6.1->cirq) (25.4.0)\n",
            "Collecting duet>=0.2.8 (from cirq-core==1.6.1->cirq)\n",
            "  Downloading duet-0.2.9-py3-none-any.whl.metadata (2.3 kB)\n",
            "Requirement already satisfied: matplotlib~=3.8 in /usr/local/lib/python3.12/dist-packages (from cirq-core==1.6.1->cirq) (3.10.0)\n",
            "Requirement already satisfied: networkx~=3.4 in /usr/local/lib/python3.12/dist-packages (from cirq-core==1.6.1->cirq) (3.5)\n",
            "Requirement already satisfied: numpy>=1.26 in /usr/local/lib/python3.12/dist-packages (from cirq-core==1.6.1->cirq) (2.0.2)\n",
            "Requirement already satisfied: pandas~=2.1 in /usr/local/lib/python3.12/dist-packages (from cirq-core==1.6.1->cirq) (2.2.2)\n",
            "Requirement already satisfied: sortedcontainers~=2.0 in /usr/local/lib/python3.12/dist-packages (from cirq-core==1.6.1->cirq) (2.4.0)\n",
            "Requirement already satisfied: scipy~=1.12 in /usr/local/lib/python3.12/dist-packages (from cirq-core==1.6.1->cirq) (1.16.2)\n",
            "Requirement already satisfied: sympy in /usr/local/lib/python3.12/dist-packages (from cirq-core==1.6.1->cirq) (1.13.3)\n",
            "Requirement already satisfied: typing_extensions>=4.2 in /usr/local/lib/python3.12/dist-packages (from cirq-core==1.6.1->cirq) (4.15.0)\n",
            "Requirement already satisfied: tqdm>=4.12 in /usr/local/lib/python3.12/dist-packages (from cirq-core==1.6.1->cirq) (4.67.1)\n",
            "Requirement already satisfied: google-api-core~=2.22 in /usr/local/lib/python3.12/dist-packages (from google-api-core[grpc]~=2.22->cirq-google==1.6.1->cirq) (2.25.2)\n",
            "Requirement already satisfied: proto-plus~=1.25 in /usr/local/lib/python3.12/dist-packages (from cirq-google==1.6.1->cirq) (1.26.1)\n",
            "Requirement already satisfied: protobuf<6.0dev,>=5.26.1 in /usr/local/lib/python3.12/dist-packages (from cirq-google==1.6.1->cirq) (5.29.5)\n",
            "Collecting typedunits (from cirq-google==1.6.1->cirq)\n",
            "  Downloading typedunits-0.0.1-cp312-cp312-manylinux2014_x86_64.manylinux_2_17_x86_64.manylinux_2_28_x86_64.whl.metadata (4.9 kB)\n",
            "Requirement already satisfied: googleapis-common-protos<2.0.0,>=1.56.2 in /usr/local/lib/python3.12/dist-packages (from google-api-core~=2.22->google-api-core[grpc]~=2.22->cirq-google==1.6.1->cirq) (1.70.0)\n",
            "Requirement already satisfied: google-auth<3.0.0,>=2.14.1 in /usr/local/lib/python3.12/dist-packages (from google-api-core~=2.22->google-api-core[grpc]~=2.22->cirq-google==1.6.1->cirq) (2.38.0)\n",
            "Requirement already satisfied: grpcio<2.0.0,>=1.33.2 in /usr/local/lib/python3.12/dist-packages (from google-api-core[grpc]~=2.22->cirq-google==1.6.1->cirq) (1.75.1)\n",
            "Requirement already satisfied: grpcio-status<2.0.0,>=1.33.2 in /usr/local/lib/python3.12/dist-packages (from google-api-core[grpc]~=2.22->cirq-google==1.6.1->cirq) (1.71.2)\n",
            "Requirement already satisfied: contourpy>=1.0.1 in /usr/local/lib/python3.12/dist-packages (from matplotlib~=3.8->cirq-core==1.6.1->cirq) (1.3.3)\n",
            "Requirement already satisfied: cycler>=0.10 in /usr/local/lib/python3.12/dist-packages (from matplotlib~=3.8->cirq-core==1.6.1->cirq) (0.12.1)\n",
            "Requirement already satisfied: fonttools>=4.22.0 in /usr/local/lib/python3.12/dist-packages (from matplotlib~=3.8->cirq-core==1.6.1->cirq) (4.60.1)\n",
            "Requirement already satisfied: kiwisolver>=1.3.1 in /usr/local/lib/python3.12/dist-packages (from matplotlib~=3.8->cirq-core==1.6.1->cirq) (1.4.9)\n",
            "Requirement already satisfied: packaging>=20.0 in /usr/local/lib/python3.12/dist-packages (from matplotlib~=3.8->cirq-core==1.6.1->cirq) (25.0)\n",
            "Requirement already satisfied: pillow>=8 in /usr/local/lib/python3.12/dist-packages (from matplotlib~=3.8->cirq-core==1.6.1->cirq) (11.3.0)\n",
            "Requirement already satisfied: pyparsing>=2.3.1 in /usr/local/lib/python3.12/dist-packages (from matplotlib~=3.8->cirq-core==1.6.1->cirq) (3.2.5)\n",
            "Requirement already satisfied: python-dateutil>=2.7 in /usr/local/lib/python3.12/dist-packages (from matplotlib~=3.8->cirq-core==1.6.1->cirq) (2.9.0.post0)\n",
            "Requirement already satisfied: pytz>=2020.1 in /usr/local/lib/python3.12/dist-packages (from pandas~=2.1->cirq-core==1.6.1->cirq) (2025.2)\n",
            "Requirement already satisfied: tzdata>=2022.7 in /usr/local/lib/python3.12/dist-packages (from pandas~=2.1->cirq-core==1.6.1->cirq) (2025.2)\n",
            "Requirement already satisfied: charset_normalizer<4,>=2 in /usr/local/lib/python3.12/dist-packages (from requests~=2.32->cirq-aqt==1.6.1->cirq) (3.4.3)\n",
            "Requirement already satisfied: idna<4,>=2.5 in /usr/local/lib/python3.12/dist-packages (from requests~=2.32->cirq-aqt==1.6.1->cirq) (3.10)\n",
            "Requirement already satisfied: urllib3<3,>=1.21.1 in /usr/local/lib/python3.12/dist-packages (from requests~=2.32->cirq-aqt==1.6.1->cirq) (2.5.0)\n",
            "Requirement already satisfied: certifi>=2017.4.17 in /usr/local/lib/python3.12/dist-packages (from requests~=2.32->cirq-aqt==1.6.1->cirq) (2025.10.5)\n",
            "Requirement already satisfied: mpmath<1.4,>=1.1.0 in /usr/local/lib/python3.12/dist-packages (from sympy->cirq-core==1.6.1->cirq) (1.3.0)\n",
            "Requirement already satisfied: cython>=3.0.0 in /usr/local/lib/python3.12/dist-packages (from typedunits->cirq-google==1.6.1->cirq) (3.0.12)\n",
            "Requirement already satisfied: cachetools<6.0,>=2.0.0 in /usr/local/lib/python3.12/dist-packages (from google-auth<3.0.0,>=2.14.1->google-api-core~=2.22->google-api-core[grpc]~=2.22->cirq-google==1.6.1->cirq) (5.5.2)\n",
            "Requirement already satisfied: pyasn1-modules>=0.2.1 in /usr/local/lib/python3.12/dist-packages (from google-auth<3.0.0,>=2.14.1->google-api-core~=2.22->google-api-core[grpc]~=2.22->cirq-google==1.6.1->cirq) (0.4.2)\n",
            "Requirement already satisfied: rsa<5,>=3.1.4 in /usr/local/lib/python3.12/dist-packages (from google-auth<3.0.0,>=2.14.1->google-api-core~=2.22->google-api-core[grpc]~=2.22->cirq-google==1.6.1->cirq) (4.9.1)\n",
            "Requirement already satisfied: six>=1.5 in /usr/local/lib/python3.12/dist-packages (from python-dateutil>=2.7->matplotlib~=3.8->cirq-core==1.6.1->cirq) (1.17.0)\n",
            "Requirement already satisfied: pyasn1<0.7.0,>=0.6.1 in /usr/local/lib/python3.12/dist-packages (from pyasn1-modules>=0.2.1->google-auth<3.0.0,>=2.14.1->google-api-core~=2.22->google-api-core[grpc]~=2.22->cirq-google==1.6.1->cirq) (0.6.1)\n",
            "Downloading cirq-1.6.1-py3-none-any.whl (11 kB)\n",
            "Downloading cirq_aqt-1.6.1-py3-none-any.whl (32 kB)\n",
            "Downloading cirq_core-1.6.1-py3-none-any.whl (2.0 MB)\n",
            "\u001b[2K   \u001b[90m━━━━━━━━━━━━━━━━━━━━━━━━━━━━━━━━━━━━━━━━\u001b[0m \u001b[32m2.0/2.0 MB\u001b[0m \u001b[31m36.7 MB/s\u001b[0m eta \u001b[36m0:00:00\u001b[0m\n",
            "\u001b[?25hDownloading cirq_google-1.6.1-py3-none-any.whl (670 kB)\n",
            "\u001b[2K   \u001b[90m━━━━━━━━━━━━━━━━━━━━━━━━━━━━━━━━━━━━━━━━\u001b[0m \u001b[32m670.8/670.8 kB\u001b[0m \u001b[31m45.0 MB/s\u001b[0m eta \u001b[36m0:00:00\u001b[0m\n",
            "\u001b[?25hDownloading cirq_ionq-1.6.1-py3-none-any.whl (73 kB)\n",
            "\u001b[2K   \u001b[90m━━━━━━━━━━━━━━━━━━━━━━━━━━━━━━━━━━━━━━━━\u001b[0m \u001b[32m73.5/73.5 kB\u001b[0m \u001b[31m6.4 MB/s\u001b[0m eta \u001b[36m0:00:00\u001b[0m\n",
            "\u001b[?25hDownloading cirq_pasqal-1.6.1-py3-none-any.whl (33 kB)\n",
            "Downloading cirq_web-1.6.1-py3-none-any.whl (430 kB)\n",
            "\u001b[2K   \u001b[90m━━━━━━━━━━━━━━━━━━━━━━━━━━━━━━━━━━━━━━━━\u001b[0m \u001b[32m430.5/430.5 kB\u001b[0m \u001b[31m34.1 MB/s\u001b[0m eta \u001b[36m0:00:00\u001b[0m\n",
            "\u001b[?25hDownloading duet-0.2.9-py3-none-any.whl (29 kB)\n",
            "Downloading typedunits-0.0.1-cp312-cp312-manylinux2014_x86_64.manylinux_2_17_x86_64.manylinux_2_28_x86_64.whl (2.8 MB)\n",
            "\u001b[2K   \u001b[90m━━━━━━━━━━━━━━━━━━━━━━━━━━━━━━━━━━━━━━━━\u001b[0m \u001b[32m2.8/2.8 MB\u001b[0m \u001b[31m94.9 MB/s\u001b[0m eta \u001b[36m0:00:00\u001b[0m\n",
            "\u001b[?25hInstalling collected packages: typedunits, duet, cirq-core, cirq-web, cirq-pasqal, cirq-ionq, cirq-aqt, cirq-google, cirq\n",
            "Successfully installed cirq-1.6.1 cirq-aqt-1.6.1 cirq-core-1.6.1 cirq-google-1.6.1 cirq-ionq-1.6.1 cirq-pasqal-1.6.1 cirq-web-1.6.1 duet-0.2.9 typedunits-0.0.1\n"
          ]
        }
      ]
    }
  ]
}